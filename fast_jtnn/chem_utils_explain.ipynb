{
 "cells": [
  {
   "cell_type": "code",
   "execution_count": 8,
   "metadata": {},
   "outputs": [],
   "source": [
    "from collections import defaultdict\n",
    "import rdkit\n",
    "import rdkit.Chem as Chem\n",
    "MST_MAX_WEIGHT = 100\n",
    "def tree_decomp(mol):\n",
    "    n_atoms = mol.GetNumAtoms()\n",
    "    if n_atoms == 1: #special case\n",
    "        return [[0]], []\n",
    "\n",
    "    cliques = []                                #contain bonds not in rings with format [ [begin_atom1;end_atoms1],[begin_atom2;end_atoms2] ]\n",
    "    for bond in mol.GetBonds():                     \n",
    "        a1 = bond.GetBeginAtom().GetIdx()\n",
    "        a2 = bond.GetEndAtom().GetIdx()\n",
    "        if not bond.IsInRing():\n",
    "            print(\"Have Bond\")\n",
    "            cliques.append([a1,a2])\n",
    "\n",
    "    ssr = [list(x) for x in Chem.GetSymmSSSR(mol)]\n",
    "    cliques.extend(ssr)\n",
    "\n",
    "    nei_list = [[] for i in range(n_atoms)]                 #nei_list = sublist (represent for each atom) in a list\n",
    "    for i in range(len(cliques)):\n",
    "        for atom in cliques[i]:\n",
    "            nei_list[atom].append(i)                        #each sublist contain the information clique order that atom at\n",
    "    print(\"cliq before merge:\", cliques)\n",
    "\n",
    "    #Merge Rings with intersection > 2 atoms\n",
    "    for i in range(len(cliques)):\n",
    "        if len(cliques[i]) <= 2: continue                   #if this is bond => move to next \n",
    "        for atom in cliques[i]:\n",
    "            for j in nei_list[atom]:\n",
    "                if i >= j or len(cliques[j]) <= 2: continue     #If i>j reduce the double time check between two clique, which is redundancy\n",
    "                inter = set(cliques[i]) & set(cliques[j])\n",
    "                if len(inter) > 2:\n",
    "                    print(\"Have merging\")\n",
    "                    cliques[i].extend(cliques[j])\n",
    "                    cliques[i] = list(set(cliques[i]))\n",
    "                    cliques[j] = []\n",
    "    #Clear back the nei_list after merging\n",
    "    cliques = [c for c in cliques if len(c) > 0]\n",
    "    nei_list = [[] for i in range(n_atoms)]\n",
    "    for i in range(len(cliques)):\n",
    "        for atom in cliques[i]:\n",
    "            nei_list[atom].append(i)\n",
    "\n",
    "    print('cliques after merge:', cliques)\n",
    "    print('nei_list after merge:', nei_list)\n",
    "\n",
    "    #Build edges and add singleton cliques\n",
    "    edges = defaultdict(int)\n",
    "    for atom in range(n_atoms):\n",
    "        if len(nei_list[atom]) <= 1:                            #Ignore atom exist in only 1 clique\n",
    "            continue\n",
    "        cnei = nei_list[atom]\n",
    "        bonds = [c for c in cnei if len(cliques[c]) == 2]       \n",
    "        rings = [c for c in cnei if len(cliques[c]) > 4]\n",
    "        if len(bonds) > 2 or (len(bonds) == 2 and len(cnei) > 2): #In general, if len(cnei) >= 3, a singleton should be added, but 1 bond + 2 ring is currently not dealt with.\n",
    "            cliques.append([atom])\n",
    "            c2 = len(cliques) - 1\n",
    "            for c1 in cnei:\n",
    "                edges[(c1,c2)] = 1\n",
    "        elif len(rings) > 2: #Multiple (n>2) complex rings\n",
    "            cliques.append([atom])\n",
    "            c2 = len(cliques) - 1\n",
    "            for c1 in cnei:\n",
    "                edges[(c1,c2)] = MST_MAX_WEIGHT - 1\n",
    "        else:\n",
    "            for i in range(len(cnei)):\n",
    "                for j in range(i + 1, len(cnei)):\n",
    "                    c1,c2 = cnei[i],cnei[j]\n",
    "                    inter = set(cliques[c1]) & set(cliques[c2])\n",
    "                    if edges[(c1,c2)] < len(inter):\n",
    "                        edges[(c1,c2)] = len(inter) #cnei[i] < cnei[j] by construction\n",
    "    print(\"cliques added singleton\", cliques)\n",
    "    print(\"edge dict:\", edges)\n",
    "    edges = [u + (MST_MAX_WEIGHT-v,) for u,v in edges.items()]\n",
    "    if len(edges) == 0:\n",
    "        return cliques, edges\n",
    "    else:\n",
    "        return cliques, edges\n"
   ]
  },
  {
   "cell_type": "code",
   "execution_count": 4,
   "metadata": {},
   "outputs": [
    {
     "name": "stdout",
     "output_type": "stream",
     "text": [
      "Have Bond\n",
      "Have Bond\n",
      "Have Bond\n",
      "Have Bond\n",
      "Have Bond\n",
      "Have Bond\n",
      "Have Bond\n",
      "Have Bond\n",
      "Have Bond\n",
      "cliq before merge: [[0, 1], [1, 2], [2, 3], [3, 4], [12, 13], [2, 15], [15, 16], [15, 17], [17, 18], [5, 6, 11, 12, 14, 4], [7, 8, 9, 10, 11, 6], [19, 18, 22, 21, 20]]\n",
      "cliques after merge: [[0, 1], [1, 2], [2, 3], [3, 4], [12, 13], [2, 15], [15, 16], [15, 17], [17, 18], [5, 6, 11, 12, 14, 4], [7, 8, 9, 10, 11, 6], [19, 18, 22, 21, 20]]\n",
      "nei_list after merge: [[0], [0, 1], [1, 2, 5], [2, 3], [3, 9], [9], [9, 10], [10], [10], [10], [10], [9, 10], [4, 9], [4], [9], [5, 6, 7], [6], [7, 8], [8, 11], [11], [11], [11], [11]]\n",
      "cliques added singleton [[0, 1], [1, 2], [2, 3], [3, 4], [12, 13], [2, 15], [15, 16], [15, 17], [17, 18], [5, 6, 11, 12, 14, 4], [7, 8, 9, 10, 11, 6], [19, 18, 22, 21, 20], [2], [15]]\n",
      "edge dict: defaultdict(<class 'int'>, {(0, 1): 1, (1, 12): 1, (2, 12): 1, (5, 12): 1, (2, 3): 1, (3, 9): 1, (9, 10): 2, (4, 9): 1, (5, 13): 1, (6, 13): 1, (7, 13): 1, (7, 8): 1, (8, 11): 1})\n",
      "edge_list [(0, 1, 99), (1, 12, 99), (2, 12, 99), (5, 12, 99), (2, 3, 99), (3, 9, 99), (9, 10, 98), (4, 9, 99), (5, 13, 99), (6, 13, 99), (7, 13, 99), (7, 8, 99), (8, 11, 99)]\n"
     ]
    }
   ],
   "source": [
    "from rdkit import Chem\n",
    "\n",
    "# Create a molecule with multiple rings (naphthalene)\n",
    "# smiles = 'c1ccc2c(c1)ccc3c2cccc3'  # SMILES notation for naphthalene\n",
    "smiles = \"CCN(Cc1nc2ccccc2c(=O)[nH]1)C(=O)CC1CCCC1\"   #have_interection\n",
    "mol = Chem.MolFromSmiles(smiles)\n",
    "\n",
    "cliques, edges = tree_decomp(mol)\n",
    "print(\"edge_list\", edges)"
   ]
  },
  {
   "cell_type": "code",
   "execution_count": 5,
   "metadata": {},
   "outputs": [
    {
     "data": {
      "image/png": "[encoded data removed]",
      "text/plain": [
       "<rdkit.Chem.rdchem.Mol at 0x11a640820>"
      ]
     },
     "execution_count": 5,
     "metadata": {},
     "output_type": "execute_result"
    }
   ],
   "source": [
    "for atom in mol.GetAtoms():\n",
    "    # For each atom, set the property \"atomNote\" to a index+1 of the atom\n",
    "    atom.SetProp(\"atomNote\", str(atom.GetIdx()))\n",
    "\n",
    "mol"
   ]
  },
  {
   "cell_type": "code",
   "execution_count": 11,
   "metadata": {},
   "outputs": [],
   "source": [
    "def set_atommap(mol, num=0):\n",
    "    for atom in mol.GetAtoms():\n",
    "        display(atom)\n",
    "        a = atom.SetAtomMapNum(num)\n",
    "        print(a)"
   ]
  },
  {
   "cell_type": "code",
   "execution_count": 66,
   "metadata": {},
   "outputs": [
    {
     "name": "stdout",
     "output_type": "stream",
     "text": [
      "[[5, 6], [11, 12], [0, 5, 4, 3, 2, 1], [7, 8, 9, 10, 11, 6], [13, 14, 15, 16, 17, 12]]\n",
      "[[0, 6, 7, 3, 2, 1, 4, 3, 7, 6, 5], [4, 3, 7, 6, 5]]\n"
     ]
    }
   ],
   "source": [
    "print(bonds)\n",
    "print(rings)"
   ]
  },
  {
   "cell_type": "code",
   "execution_count": 67,
   "metadata": {},
   "outputs": [
    {
     "name": "stdout",
     "output_type": "stream",
     "text": [
      "0\n",
      "0\n",
      "1\n",
      "2\n",
      "3\n",
      "4\n",
      "5\n",
      "6\n",
      "7\n",
      "1\n",
      "8\n",
      "[[0, 1, 2, 3, 4, 5, 6, 7], []]\n",
      "[[0], [0], [0], [0], [0], [0], [0], [0]]\n"
     ]
    }
   ],
   "source": [
    "n_atoms = mol.GetNumAtoms()\n",
    "\n",
    "nei_list = [[] for i in range(n_atoms)]             #create number_of_atom sublist\n",
    "for i in range(len(cliques)):\n",
    "    print(i)\n",
    "    for atom in cliques[i]:\n",
    "        print(atom)\n",
    "        nei_list[atom].append(i)\n",
    "\n",
    "print(n_atoms)\n",
    "print(cliques)\n",
    "print(nei_list)"
   ]
  },
  {
   "cell_type": "code",
   "execution_count": 79,
   "metadata": {},
   "outputs": [
    {
     "name": "stdout",
     "output_type": "stream",
     "text": [
      "[[0, 1, 2, 3, 4, 5, 6, 7], []]\n",
      "<class 'list'>\n"
     ]
    }
   ],
   "source": [
    "print(cliques)\n",
    "print(type(edges))\n"
   ]
  },
  {
   "cell_type": "code",
   "execution_count": null,
   "metadata": {},
   "outputs": [],
   "source": []
  },
  {
   "cell_type": "code",
   "execution_count": 112,
   "metadata": {},
   "outputs": [
    {
     "name": "stdout",
     "output_type": "stream",
     "text": [
      "[(0, 1, 99), (1, 12, 99), (2, 12, 99), (5, 12, 99), (2, 3, 99), (3, 9, 99), (9, 10, 98), (4, 9, 99), (5, 13, 99), (6, 13, 99), (7, 13, 99), (7, 8, 99), (8, 11, 99)]\n",
      "  (0, 1)\t99\n",
      "  (1, 12)\t99\n",
      "  (2, 3)\t99\n",
      "  (2, 12)\t99\n",
      "  (3, 9)\t99\n",
      "  (4, 9)\t99\n",
      "  (5, 12)\t99\n",
      "  (5, 13)\t99\n",
      "  (6, 13)\t99\n",
      "  (7, 8)\t99\n",
      "  (7, 13)\t99\n",
      "  (8, 11)\t99\n",
      "  (9, 10)\t98\n",
      "  (0, 1)\t99.0\n",
      "  (1, 12)\t99.0\n",
      "  (2, 3)\t99.0\n",
      "  (2, 12)\t99.0\n",
      "  (3, 9)\t99.0\n",
      "  (4, 9)\t99.0\n",
      "  (5, 12)\t99.0\n",
      "  (5, 13)\t99.0\n",
      "  (6, 13)\t99.0\n",
      "  (7, 8)\t99.0\n",
      "  (7, 13)\t99.0\n",
      "  (8, 11)\t99.0\n",
      "  (9, 10)\t98.0\n"
     ]
    }
   ],
   "source": [
    "from scipy.sparse import csr_matrix\n",
    "from scipy.sparse.csgraph import minimum_spanning_tree\n",
    "\n",
    "edges_check = defaultdict(int)\n",
    "\n",
    "edges_check = {(0, 1): 1, (1, 12): 1, (2, 12): 1, (5, 12): 1, (2, 3): 1, (3, 9): 1, (9, 10): 2, (4, 9): 1, (5, 13): 1, (6, 13): 1, (7, 13): 1, (7, 8): 1, (8, 11): 1}\n",
    "edges_list = [u + (MST_MAX_WEIGHT-v,) for u,v in edges_check.items()]\n",
    "print(edges_list)\n",
    "row,col,data = list(zip(*edges_list))\n",
    "n_clique = len(cliques)\n",
    "clique_graph = csr_matrix( (data,(row,col)), shape=(n_clique,n_clique) )\n",
    "print(clique_graph)\n",
    "junc_tree = minimum_spanning_tree(clique_graph)\n",
    "print(junc_tree)\n",
    "row,col = junc_tree.nonzero()\n",
    "edges = [(row[i],col[i]) for i in range(len(row))]\n",
    "# return (cliques, edges)"
   ]
  },
  {
   "cell_type": "code",
   "execution_count": 114,
   "metadata": {},
   "outputs": [
    {
     "name": "stdout",
     "output_type": "stream",
     "text": [
      "[(0, 1), (1, 12), (2, 3), (2, 12), (3, 9), (4, 9), (5, 12), (5, 13), (6, 13), (7, 8), (7, 13), (8, 11), (9, 10)]\n"
     ]
    }
   ],
   "source": [
    "print(edges)"
   ]
  },
  {
   "cell_type": "code",
   "execution_count": 109,
   "metadata": {},
   "outputs": [],
   "source": [
    "row,col = junc_tree.nonzero()\n"
   ]
  },
  {
   "cell_type": "code",
   "execution_count": 111,
   "metadata": {},
   "outputs": [
    {
     "data": {
      "text/plain": [
       "array([ 1, 12,  3, 12,  9,  9, 12, 13, 13,  8, 13, 11, 10], dtype=int32)"
      ]
     },
     "execution_count": 111,
     "metadata": {},
     "output_type": "execute_result"
    }
   ],
   "source": [
    "col"
   ]
  },
  {
   "cell_type": "code",
   "execution_count": 125,
   "metadata": {},
   "outputs": [],
   "source": [
    "def copy_atom(atom):\n",
    "    new_atom = Chem.Atom(atom.GetSymbol())\n",
    "    new_atom.SetFormalCharge(atom.GetFormalCharge())\n",
    "    new_atom.SetAtomMapNum(atom.GetAtomMapNum())\n",
    "    return new_atom\n",
    "def sanitize(mol):\n",
    "    try:\n",
    "        smiles = get_smiles(mol)\n",
    "        mol = get_mol(smiles)\n",
    "    except Exception as e:\n",
    "        return None\n",
    "    return mol\n",
    "def copy_edit_mol(mol):\n",
    "    new_mol = Chem.RWMol(Chem.MolFromSmiles(''))\n",
    "    for atom in mol.GetAtoms():\n",
    "        new_atom = copy_atom(atom)\n",
    "        new_mol.AddAtom(new_atom)\n",
    "    for bond in mol.GetBonds():\n",
    "        a1 = bond.GetBeginAtom().GetIdx()\n",
    "        a2 = bond.GetEndAtom().GetIdx()\n",
    "        bt = bond.GetBondType()\n",
    "        new_mol.AddBond(a1, a2, bt)\n",
    "    return new_mol\n",
    "def get_clique_mol(mol, atoms):\n",
    "    smiles = Chem.MolFragmentToSmiles(mol, atoms, kekuleSmiles=True)\n",
    "    new_mol = Chem.MolFromSmiles(smiles, sanitize=False)\n",
    "    new_mol = copy_edit_mol(new_mol).GetMol()\n",
    "    new_mol = sanitize(new_mol) #We assume this is not None\n",
    "    return new_mol"
   ]
  },
  {
   "cell_type": "code",
   "execution_count": 136,
   "metadata": {},
   "outputs": [
    {
     "name": "stdout",
     "output_type": "stream",
     "text": [
      "C1=CN=CNC1\n"
     ]
    },
    {
     "data": {
      "image/png": "[encoded data removed]",
      "text/plain": [
       "<rdkit.Chem.rdchem.Mol at 0x154c2a180>"
      ]
     },
     "execution_count": 136,
     "metadata": {},
     "output_type": "execute_result"
    }
   ],
   "source": [
    "smiles = Chem.MolFragmentToSmiles(mol, (5, 6, 11, 12, 14, 4), kekuleSmiles=True)\n",
    "print(smiles)\n",
    "new_mol = Chem.MolFromSmiles(smiles, sanitize=False)\n",
    "new_mol = copy_edit_mol(new_mol).GetMol()\n",
    "# new_mol = sanitize(new_mol) #We assume this is not None\n",
    "new_mol\n"
   ]
  },
  {
   "cell_type": "code",
   "execution_count": 134,
   "metadata": {},
   "outputs": [],
   "source": [
    "neww_mol = sanitize(new_mol) #We assume this is not None\n",
    "neww_mol"
   ]
  },
  {
   "cell_type": "code",
   "execution_count": 141,
   "metadata": {},
   "outputs": [],
   "source": [
    "class MolTreeNode(object):\n",
    "\n",
    "    def __init__(self, smiles, clique=[]):\n",
    "        self.smiles = smiles\n",
    "        self.mol = get_mol(self.smiles)\n",
    "\n",
    "        self.clique = [x for x in clique] #copy\n",
    "        self.neighbors = []\n",
    "\n",
    "\n",
    "\n",
    "    def add_neighbor(self, nei_node):\n",
    "        self.neighbors.append(nei_node)\n",
    "\n",
    "    def recover(self, original_mol):\n",
    "        clique = []\n",
    "        clique.extend(self.clique)\n",
    "        if not self.is_leaf:\n",
    "            for cidx in self.clique:\n",
    "                original_mol.GetAtomWithIdx(cidx).SetAtomMapNum(self.nid)\n",
    "\n",
    "        for nei_node in self.neighbors:\n",
    "            clique.extend(nei_node.clique)\n",
    "            if nei_node.is_leaf: #Leaf node, no need to mark \n",
    "                continue\n",
    "            for cidx in nei_node.clique:\n",
    "                #allow singleton node override the atom mapping\n",
    "                if cidx not in self.clique or len(nei_node.clique) == 1:\n",
    "                    atom = original_mol.GetAtomWithIdx(cidx)\n",
    "                    atom.SetAtomMapNum(nei_node.nid)\n",
    "\n",
    "        clique = list(set(clique))\n",
    "        label_mol = get_clique_mol(original_mol, clique)\n",
    "        self.label = Chem.MolToSmiles(Chem.MolFromSmiles(get_smiles(label_mol)))\n",
    "\n",
    "        for cidx in clique:\n",
    "            original_mol.GetAtomWithIdx(cidx).SetAtomMapNum(0)\n",
    "\n",
    "        return self.label\n",
    "    \n",
    "    def assemble(self):\n",
    "        neighbors = [nei for nei in self.neighbors if nei.mol.GetNumAtoms() > 1]\n",
    "        neighbors = sorted(neighbors, key=lambda x:x.mol.GetNumAtoms(), reverse=True)\n",
    "        singletons = [nei for nei in self.neighbors if nei.mol.GetNumAtoms() == 1]\n",
    "        neighbors = singletons + neighbors\n",
    "\n",
    "        cands,aroma = enum_assemble(self, neighbors)\n",
    "        new_cands = [cand for i,cand in enumerate(cands) if aroma[i] >= 0]\n",
    "        if len(new_cands) > 0: cands = new_cands\n",
    "\n",
    "        if len(cands) > 0:\n",
    "            self.cands, _ = list(zip(*cands))\n",
    "            self.cands = list(self.cands)\n",
    "        else:\n",
    "            self.cands = []"
   ]
  },
  {
   "cell_type": "code",
   "execution_count": 146,
   "metadata": {},
   "outputs": [],
   "source": [
    "def get_mol(smiles):\n",
    "    mol = Chem.MolFromSmiles(smiles)\n",
    "    if mol is None: \n",
    "        return None\n",
    "    Chem.Kekulize(mol)\n",
    "    return mol\n",
    "node = MolTreeNode(\"C1=CN=CNC1\", (5, 6, 11, 12, 14, 4))\n"
   ]
  },
  {
   "cell_type": "code",
   "execution_count": 18,
   "metadata": {},
   "outputs": [
    {
     "data": {
      "image/png": "[encoded data removed]",
      "text/plain": [
       "<rdkit.Chem.rdchem.Mol at 0x11fccadc0>"
      ]
     },
     "execution_count": 18,
     "metadata": {},
     "output_type": "execute_result"
    }
   ],
   "source": []
  },
  {
   "cell_type": "code",
   "execution_count": null,
   "metadata": {},
   "outputs": [],
   "source": []
  }
 ],
 "metadata": {
  "kernelspec": {
   "display_name": "cheminformatics",
   "language": "python",
   "name": "python3"
  },
  "language_info": {
   "codemirror_mode": {
    "name": "ipython",
    "version": 3
   },
   "file_extension": ".py",
   "mimetype": "text/x-python",
   "name": "python",
   "nbconvert_exporter": "python",
   "pygments_lexer": "ipython3",
   "version": "3.10.12"
  }
 },
 "nbformat": 4,
 "nbformat_minor": 2
}
